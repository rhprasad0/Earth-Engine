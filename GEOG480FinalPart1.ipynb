{
 "cells": [
  {
   "cell_type": "code",
   "execution_count": null,
   "metadata": {
    "pycharm": {
     "name": "#%%\n"
    }
   },
   "outputs": [],
   "source": [
    "# Notebook written by Ryan Prasad\n",
    "# GEOG 480 Fall 2 2021\n",
    "# 11/25/2021\n",
    "# rhprasad@outlook.com\n",
    "\n",
    "# Final Project Part 1\n",
    "# Task: Given a DEM and LandSat images, quantitize the water in the images.\n",
    "# Remarks: \n",
    "# - This is a fantastic exercise that I made needlessly difficult! Kudos to Karen. This is far more involved than what am writing for 483.\n",
    "# - These are the results I am submitting for grading and will update this document upon being graded.\n",
    "# - This is my first deep dive into ArcGIS Notebooks\n",
    "# - Someone who has completed the Codecademy Python course should be able to script this workflow. The limiting factor is time."
   ]
  },
  {
   "cell_type": "code",
   "execution_count": null,
   "metadata": {
    "pycharm": {
     "name": "#%%\n"
    }
   },
   "outputs": [],
   "source": [
    "# Geog 480: Exploring Imagery and Elevation Data in GIS Applications\n",
    "# Author: Karen Schuckman, kschuckman@psu.edu\n",
    "# Last Updated: 5/10/2019 6:25:00 PM Page 1 of 4\n",
    "# Final Project\n",
    "# (100 points)\n",
    "\n",
    "# The final project is an opportunity to use the data processing and analysis skills that you have\n",
    "# learned through the course to use in two problem-solving scenarios. You will be given, or asked\n",
    "# to download, a few additional datasets, but you will also be using data from weekly lessons. You\n",
    "# will be asked to produce analysis products, but not given specific instructions on how to do so.\n",
    "# You will be using tools and methods you have used before. You should be creative and thoughtful\n",
    "# about the presentation of your results in a way that demonstrates a thorough understand of the\n",
    "# application of these tools and methods.\n",
    "\n",
    "# There are two parts to the final project; each worth 50 points. The scoring rubric is described at\n",
    "# the end of these instructions.\n",
    "\n",
    "# Part 1: Quantifying Variations in Lake Area in Central PA using Landsat Imagery (50\n",
    "# points)\n",
    "\n",
    "# Scenario\n",
    "# You have been asked to report on the variation in the amount of water land cover over a 31-year\n",
    "# period, from 1982 to 2013, in a defined area of interest in central PA that you have been studying\n",
    "# in this course. You have been asked to relate the overall variation in water land cover within the\n",
    "# study region to the areal extent of 4 major lakes in this region over the same time period.\n",
    "# The four lakes are:\n",
    "# • Raystown Lake\n",
    "# • Black Moshannon Lake\n",
    "# • Sayers Reservoir in Bald Eagle State Park\n",
    "# • Colyer Lake\n",
    "# The temporal analysis is to be done using the following Landsat datasets:\n",
    "# • 1982 November 25 Landsat 4\n",
    "# • 1988 October 16 Landsat 5\n",
    "# • 1999 October 07 Landsat 7\n",
    "# • 2002 September 13 Landsat 7\n",
    "# • 2013 October 21 Landsat 8\n",
    "# These dates have been chosen in order to minimize the influence of normal seasonal variation in\n",
    "# lake area on the temporal analysis.\n",
    "\n",
    "# Methodology\n",
    "# Your client has seen an example of your earlier work and has agreed to the use of 10-Class Iso\n",
    "# Cluster unsupervised classification, provided you refine these results using the same image\n",
    "# processing techniques and terrain analysis criterion, namely:\n",
    "# • Slope < 2 degrees\n",
    "# • Majority Filter\n",
    "# • Boundary Clean\n",
    "\n",
    "# Analysis\n",
    "# As the primary output for the report, you have been asked to produce graphs or charts of your\n",
    "# own design showing:\n",
    "# • Temporal change in total water land cover from 1982 – 2013, in acres.\n",
    "# • Temporal change in lake area for each of the 4 lakes individually from 1982 – 2013, in\n",
    "# acres.\n",
    "# You are to evaluate the trends in lake size to the overall trends in water land cover; for example,\n",
    "# does the largest lake area occur in the year when the overall water land cover area is largest and\n",
    "# does the smallest lake area occur in the year when the overall water land cover is smallest.\n",
    "# In cases where an individual lake area trend does not follow the overall trend, you are asked to\n",
    "# pose potential explanations based on research and local knowledge. The study region is small\n",
    "# enough to assume that seasonal rainfall can be considered uniform throughout."
   ]
  },
  {
   "cell_type": "markdown",
   "metadata": {
    "pycharm": {
     "name": "#%% md\n"
    }
   },
   "source": [
    "# Bring in the Data"
   ]
  },
  {
   "cell_type": "code",
   "execution_count": 2,
   "metadata": {
    "pycharm": {
     "name": "#%%\n"
    }
   },
   "outputs": [
    {
     "data": {
      "text/plain": [
       "<arcpy._mp.Layer object at 0x000001829084D088>"
      ]
     },
     "execution_count": 2,
     "metadata": {},
     "output_type": "execute_result"
    }
   ],
   "source": [
    "# Landsat images from USGS Earth Explorer.\n",
    "\n",
    "import arcpy.mp\n",
    "\n",
    "aprx = arcpy.mp.ArcGISProject(\"Current\")\n",
    "map = aprx.listMaps()[0]\n",
    "\n",
    "# Bring in the LandSat images\n",
    "map.addDataFromPath(r'C:\\Geog480Root\\Final\\Data\\LT04_L1TP_016032_19821125_20161004_01_T1.tif')\n",
    "map.addDataFromPath(r'C:\\Geog480Root\\Final\\Data\\LT05_L1TP_016032_19881016_20161002_01_T1.tif')\n",
    "map.addDataFromPath(r'C:\\Geog480Root\\Final\\Data\\LE07_L1TP_016032_19991007_20161002_01_T1.tif')\n",
    "map.addDataFromPath(r'C:\\Geog480Root\\Final\\Data\\LE07_L1TP_016032_20020913_20160928_01_T1.tif')\n",
    "map.addDataFromPath(r'C:\\Geog480Root\\Final\\Data\\LC08_L1TP_016032_20131021_20170308_01_T1.tif')\n",
    "\n",
    "# Bring in the project DEM\n",
    "map.addDataFromPath(r'C:\\Geog480Root\\Final\\Data\\USGSDEM.img')\n",
    "\n"
   ]
  },
  {
   "cell_type": "markdown",
   "metadata": {
    "pycharm": {
     "name": "#%% md\n"
    }
   },
   "source": [
    "# Using the DEM from lesson 8, generate water rasters per instructions"
   ]
  },
  {
   "cell_type": "code",
   "execution_count": 17,
   "metadata": {
    "pycharm": {
     "name": "#%%\n"
    }
   },
   "outputs": [],
   "source": [
    "from arcpy.sa import *\n",
    "\n",
    "# Run the slope tool on the DEM\n",
    "outSlope = Slope('USGSDEM.img', 'DEGREE', 1)\n",
    "\n",
    "# Grab slopes < 2 degrees\n",
    "outTest = Test(outSlope, \"VALUE < 2\")\n",
    "\n"
   ]
  },
  {
   "cell_type": "code",
   "execution_count": 18,
   "metadata": {
    "pycharm": {
     "name": "#%%\n"
    }
   },
   "outputs": [],
   "source": [
    "from arcpy.sa import *\n",
    "\n",
    "images = [\n",
    "    \"LC08_L1TP_016032_20131021_20170308_01_T1.tif\",\n",
    "    \"LE07_L1TP_016032_20020913_20160928_01_T1.tif\", \n",
    "    \"LE07_L1TP_016032_19991007_20161002_01_T1.tif\",\n",
    "    \"LT05_L1TP_016032_19881016_20161002_01_T1.tif\",\n",
    "    \"LT04_L1TP_016032_19821125_20161004_01_T1.tif\"\n",
    "]\n",
    "\n",
    "\n",
    "for image in images: \n",
    "\n",
    "    isoClasses = [[1,0],[2,0],[3,0],[4,0],[5,0],[6,0],[7,0],[8,0],[9,0],[10,0]]\n",
    "    \n",
    "    # Run the ISO Classification on the image\n",
    "    outUnsupervised = IsoClusterUnsupervisedClassification(image, 10)\n",
    "    \n",
    "    # Grab the class number of water, save it as an integer\n",
    "    waterClass = arcpy.GetCellValue_management(outUnsupervised, \"233763.76 4472407.49\") # This coordinate is in the middle of Raystown Lake\n",
    "    waterClassInt = int(waterClass.getOutput(0))\n",
    "    \n",
    "    # Update isoClasses to indicate which class is water\n",
    "    for isoClass in isoClasses:\n",
    "        if isoClass[0] == waterClassInt:\n",
    "            isoClass[1] = 1\n",
    "\n",
    "    # Run the reclassify tool given the water class\n",
    "    outReclass = Reclassify(outUnsupervised, \"Value\", RemapValue(isoClasses))\n",
    "    \n",
    "    # Majority Filter & Boundary Clean\n",
    "    outMajFilt = MajorityFilter(outReclass)\n",
    "    outBndCln = BoundaryClean(outMajFilt)\n",
    "\n",
    "    # Multiply flatwater by the reclassified later\n",
    "    outTimes = Times(outBndCln, outTest)\n",
    "    outTimes.save(\"C:/Geog480Root/Final/Data/Rasters/{}.tif\".format(image[17:21]))\n",
    "\n"
   ]
  },
  {
   "cell_type": "markdown",
   "metadata": {
    "pycharm": {
     "name": "#%% md\n"
    }
   },
   "source": [
    "# Do the analysis - quantitize water over the entire study area, then drill down on the specified lakes"
   ]
  },
  {
   "cell_type": "code",
   "execution_count": 21,
   "metadata": {
    "pycharm": {
     "name": "#%%\n"
    }
   },
   "outputs": [
    {
     "name": "stdout",
     "output_type": "stream",
     "text": [
      "[1982, 1988, 1999, 2002, 2013]\n",
      "[14337, 10660, 14161, 13623, 12310]\n"
     ]
    },
    {
     "data": {
      "image/png": "[encoded data removed]",
      "text/plain": [
       "<Figure size 432x288 with 1 Axes>"
      ]
     },
     "metadata": {},
     "output_type": "display_data"
    }
   ],
   "source": [
    "# Get the total acreage of water from the five rasters. Then plot them on a bar chart.\n",
    "\n",
    "# The quantity of water is in the attribute table of the 5 rasters, which were generated from\n",
    "# unsupervised classification in the previous steps. This value needs to be converted to acres from meters.\n",
    "# Landsat images have a 30m ground sample distance.\n",
    "\n",
    "# Store these in a list, then feed that along with another list containing\n",
    "# the years into matplotlib for a basic bar chart.\n",
    "\n",
    "import arcpy\n",
    "import math\n",
    "\n",
    "import matplotlib.pyplot as plt\n",
    "%matplotlib inline\n",
    "plt.style.use('ggplot')\n",
    "\n",
    "years = [1982, 1988, 1999, 2002, 2013]\n",
    "acres = []\n",
    "\n",
    "for year in years:         \n",
    "    with arcpy.da.SearchCursor(\"{}.tif\".format(str(year)), \"COUNT\", \"VALUE = 1\") as cursor:\n",
    "        for row in cursor:\n",
    "            acres.append(math.trunc((row[0] * 30 * 30) / 4046.86))\n",
    "\n",
    "x_pos = [i for i, _ in enumerate(years)]\n",
    "\n",
    "plt.bar(x_pos, acres, color='blue')\n",
    "plt.xlabel(\"Year\")\n",
    "plt.ylabel(\"Water in Acres\")\n",
    "plt.title(\"Quantity of Water by Year\")\n",
    "plt.ylim(10000, 15000)\n",
    "plt.xticks(x_pos, years)\n",
    "\n",
    "print(years)\n",
    "print(acres)\n",
    "\n",
    "plt.show()\n",
    "\n"
   ]
  },
  {
   "cell_type": "code",
   "execution_count": 22,
   "metadata": {
    "pycharm": {
     "name": "#%%\n"
    }
   },
   "outputs": [],
   "source": [
    "# Create polygons of the lakes using the raster to polygon tool for each of the year.\n",
    "# The output will be 5 shp files for the 5 years. \n",
    "\n",
    "import arcpy\n",
    "from arcpy import env\n",
    "env.workspace = r\"C:\\Geog480Root\\Final\\Data\\Rasters\"\n",
    "\n",
    "for year in years:\n",
    "    arcpy.conversion.RasterToPolygon(in_raster = \"{}.tif\".format(year), \n",
    "                                     out_polygon_features = \"C:/Geog480Root/Final/Data/Polygons/{}.shp\".format(year),\n",
    "                                     simplify = True,\n",
    "                                     create_multipart_features = False)\n",
    "    \n",
    "    "
   ]
  },
  {
   "cell_type": "code",
   "execution_count": 1,
   "metadata": {
    "pycharm": {
     "name": "#%%\n"
    }
   },
   "outputs": [],
   "source": [
    "# 4 lakes of interest: Raystown Lake, Black Moshannon Lake, Sayers Reservoir, Colyer Lake\n",
    "# Manually cleaned up the lake polygons prior to this step. Only the shapes of the 4 lakes remain for analysis.\n",
    "# Calculate the area of the 4 lakes. The results will be reflected in the attribute table.\n",
    "# If this cell does not run due to a table being in use, restart ArcGIS Pro\n",
    "\n",
    "import arcpy\n",
    "from arcpy import env\n",
    "env.workspace = \"C:/Geog480Root/Final/Data/Polygons\"\n",
    "\n",
    "years = [1982, 1988, 1999, 2002, 2013]\n",
    "\n",
    "for year in years:\n",
    "    arcpy.management.AddGeometryAttributes(Input_Features = (\"{}.shp\".format(year)),\n",
    "                                                 Geometry_Properties = \"AREA\",\n",
    "                                                 Area_Unit = \"ACRES\")\n",
    "    \n",
    "    "
   ]
  },
  {
   "cell_type": "code",
   "execution_count": 3,
   "metadata": {
    "pycharm": {
     "name": "#%%\n"
    }
   },
   "outputs": [
    {
     "name": "stdout",
     "output_type": "stream",
     "text": [
      "[1982, 1988, 1999, 2002, 2013]\n",
      "[8450, 7475, 8715, 8727, 8500]\n"
     ]
    },
    {
     "data": {
      "image/png": "[encoded data removed]",
      "text/plain": [
       "<Figure size 432x288 with 1 Axes>"
      ]
     },
     "metadata": {},
     "output_type": "display_data"
    }
   ],
   "source": [
    "# Sum the areas in the attribute tables, add them to a list, print out the list, plot them in matplotlib\n",
    "# Areas are already in acres\n",
    "\n",
    "import arcpy\n",
    "import math\n",
    "\n",
    "import matplotlib.pyplot as plt\n",
    "%matplotlib inline\n",
    "plt.style.use('ggplot')\n",
    "\n",
    "lake_area = []\n",
    "\n",
    "for year in years:         \n",
    "    with arcpy.da.SearchCursor(in_table = (\"{}.shp\".format(year)), field_names = \"POLY_AREA\") as cursor:\n",
    "        \n",
    "        area_holder = 0 # counter variable that resets to 0 when moving on to the next year\n",
    "        \n",
    "        for row in cursor:\n",
    "            area_holder += math.trunc(row[0])\n",
    "\n",
    "        lake_area.append(area_holder)    \n",
    "\n",
    "print(years)\n",
    "print(lake_area)\n",
    "\n",
    "x_pos = [i for i, _ in enumerate(years)]\n",
    "\n",
    "plt.bar(x_pos, lake_area, color='blue')\n",
    "plt.xlabel(\"Year\")\n",
    "plt.ylabel(\"Water in Acres\")\n",
    "plt.title(\"Quantity of Lake Water by Year\")\n",
    "plt.ylim(7000, 9000)\n",
    "plt.xticks(x_pos, years)\n",
    "\n",
    "plt.show()\n",
    "\n"
   ]
  },
  {
   "cell_type": "markdown",
   "metadata": {
    "pycharm": {
     "name": "#%% md\n"
    }
   },
   "source": [
    "# Going above and beyond: Is there any variation? The answer is no."
   ]
  },
  {
   "cell_type": "code",
   "execution_count": 4,
   "metadata": {
    "pycharm": {
     "name": "#%%\n"
    }
   },
   "outputs": [
    {
     "name": "stdout",
     "output_type": "stream",
     "text": [
      "[55356.0, 55356.0, 55356.0, 55356.0, 55356.0, 55356.0, 55356.0, 55356.0, 55356.0, 55356.0]\n"
     ]
    }
   ],
   "source": [
    "# Run the workflow 10 times to see if there is any variation in the 2013 image.\n",
    "# There is no variation in the pixels of water which makes sense,\n",
    "# since the image has not changed. Just wanted to make sure this was the case! ;-)\n",
    "\n",
    "from arcpy.sa import *\n",
    "import time\n",
    "\n",
    "results = []\n",
    "\n",
    "# Flatten the water for shadows\n",
    "outSlope = Slope('USGSDEM.img', 'DEGREE', 1)\n",
    "outTest = Test(outSlope, \"VALUE < 2\")\n",
    "\n",
    "# Run this 10 times:\n",
    "for _ in range(10):\n",
    "    \n",
    "    isoClasses = [[1,0],[2,0],[3,0],[4,0],[5,0],[6,0],[7,0],[8,0],[9,0],[10,0]]\n",
    "\n",
    "    # Run the ISO Classification on the image\n",
    "    outUnsupervised = IsoClusterUnsupervisedClassification(\"LC08_L1TP_016032_20131021_20170308_01_T1.tif\", 10)\n",
    "    \n",
    "    # Grab the class number of water\n",
    "    waterClass = arcpy.GetCellValue_management(outUnsupervised, \"233763.76 4472407.49\")\n",
    "    waterClassInt = int(waterClass.getOutput(0))\n",
    "    \n",
    "    # Update isoClasses to indicate which class is water\n",
    "    for isoClass in isoClasses:\n",
    "        if isoClass[0] == waterClassInt:\n",
    "            isoClass[1] = 1\n",
    "\n",
    "    # Run the reclassify tool given the water class\n",
    "    outReclass = Reclassify(outUnsupervised, \"Value\", RemapValue(isoClasses))\n",
    "    outMajFilt = MajorityFilter(outReclass)\n",
    "    outBndCln = BoundaryClean(outMajFilt)\n",
    "\n",
    "    # Multiply flatwater by the reclassified later\n",
    "    outTimes = Times(outBndCln, outTest)\n",
    "    outTimes.save(\"C:/Geog480Root/Final/Data/outTimes.tif\")\n",
    "\n",
    "    # Grab the acreage from the attribute table\n",
    "    with arcpy.da.SearchCursor(\"C:/Geog480Root/Final/Data/outTimes.tif\", \"COUNT\", \"VALUE = 1\") as cursor:\n",
    "        for row in cursor:\n",
    "            pixels = row[0]\n",
    "\n",
    "    # Append result to list\n",
    "    results.append(pixels)\n",
    "    \n",
    "print(results)\n",
    "\n"
   ]
  },
  {
   "cell_type": "code",
   "execution_count": null,
   "metadata": {
    "pycharm": {
     "name": "#%%\n"
    }
   },
   "outputs": [],
   "source": []
  }
 ],
 "metadata": {
  "kernelspec": {
   "display_name": "ArcGISPro",
   "language": "Python",
   "name": "python3"
  },
  "language_info": {
   "file_extension": ".py",
   "name": "python",
   "version": "3"
  }
 },
 "nbformat": 4,
 "nbformat_minor": 2
}