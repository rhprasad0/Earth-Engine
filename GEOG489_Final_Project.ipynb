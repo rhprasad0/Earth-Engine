{
 "cells": [
  {
   "cell_type": "code",
   "execution_count": 1,
   "id": "553390f5",
   "metadata": {},
   "outputs": [
    {
     "data": {
      "application/vnd.jupyter.widget-view+json": {
       "model_id": "44063f8d51a946c4b2dc5de32bf923d9",
       "version_major": 2,
       "version_minor": 0
      },
      "text/plain": [
       "Map(center=[20, 0], controls=(WidgetControl(options=['position', 'transparent_bg'], widget=HBox(children=(Togg…"
      ]
     },
     "metadata": {},
     "output_type": "display_data"
    },
    {
     "data": {
      "application/javascript": [
       "\n",
       "        var code = IPython.notebook.insert_cell_below('code');\n",
       "        code.set_text(atob(\"ZGVmIG1hc2tfY2xvdWRzX2xhbmRzYXQ4KGltYWdlKToKICAjIEJpdHMgMyBhbmQgNSBhcmUgY2xvdWQgc2hhZG93IGFuZCBjbG91ZCwgcmVzcGVjdGl2ZWx5LgogIGNsb3VkU2hhZG93Qml0TWFzayA9ICgxIDw8IDMpOyAjIDEwMDAgaW4gYmFzZSAyCiAgY2xvdWRzQml0TWFzayA9ICgxIDw8IDUpOyAjIDEwMDAwMCBpbiBiYXNlIDIKCiAgIyBHZXQgdGhlIHBpeGVsIFFBIGJhbmQuCiAgcWEgPSBpbWFnZS5zZWxlY3QoJ3BpeGVsX3FhJykKCiAgIyBCb3RoIGZsYWdzIHNob3VsZCBiZSBzZXQgdG8gemVybywgaW5kaWNhdGluZyBjbGVhciBjb25kaXRpb25zLgogIG1hc2sgPSBxYSBcCiAgICAuYml0d2lzZUFuZChjbG91ZFNoYWRvd0JpdE1hc2spLmVxKDApIFwKICAgIC5BbmQocWEuYml0d2lzZUFuZChjbG91ZHNCaXRNYXNrKS5lcSgwKSkKCiAgIyBNYXNrIGltYWdlIHdpdGggY2xvdWRzIGFuZCBzaGFkb3dzCiAgcmV0dXJuIGltYWdlLnVwZGF0ZU1hc2sobWFzaykK\"));\n",
       "    "
      ],
      "text/plain": [
       "<IPython.core.display.Javascript object>"
      ]
     },
     "metadata": {},
     "output_type": "display_data"
    }
   ],
   "source": [
    "# PSU GEOG 489 Final Project Assignment\n",
    "# Ryan Prasad\n",
    "# rhprasad@outlook.com\n",
    "\n",
    "# The task for this introductory assignment is to create a cloud free image composite with the geemap library.\n",
    "# AOI is of Ocala National Forest, Tampa. Fantastic hiking + camping here during winter season.\n",
    "# Pro tip: bring your bear bag to hang from a tree or bear-proof canister! \n",
    "\n",
    "import ee\n",
    "import geemap\n",
    "\n",
    "Map = geemap.Map()\n",
    "Map"
   ]
  },
  {
   "cell_type": "code",
   "execution_count": 12,
   "id": "d3acc76d",
   "metadata": {},
   "outputs": [],
   "source": [
    "# Upload your shapefile to your Earth Engine Assets as a table, then call it in the line below\n",
    "ocalanf_boundary = ee.FeatureCollection(\"users/ryanprasad/Ocala_National_Forest\")\n",
    "\n",
    "landsat = (\n",
    "    ee.ImageCollection('LANDSAT/LC08/C01/T1_SR') # Grab Landsat 8 Collection 1 Tier 1 Surface Reflectance Imagery\n",
    "    .filter(ee.Filter.eq('WRS_PATH', 16)) # these specify the location of the image collection we want\n",
    "    .filter(ee.Filter.eq('WRS_ROW', 40))\n",
    "    .filterDate('2020-05-01', '2020-07-30') # these specify the data range of the image collection, in this case, Summer '20\n",
    "    .mean() # create a mean composite image from the image collection\n",
    "    .clip(ocalanf_boundary) # CLip the image to the polygon\n",
    ")\n",
    "\n",
    "# CIR and RGB visualization parameters\n",
    "landsat_vis_cir = {\n",
    "    'min': 0,\n",
    "    'max': 3000,\n",
    "    'bands': ['B5', 'B4', 'B3']\n",
    "}\n",
    "\n",
    "landsat_vis_rgb = {\n",
    "    'min': 0,\n",
    "    'max': 3000,\n",
    "    'bands': ['B4', 'B3', 'B2']\n",
    "}\n",
    "\n",
    "# Add CIR, RGB, and polygon layers to map\n",
    "Map.addLayer(landsat, landsat_vis_cir, 'Landsat 8 CIR')\n",
    "Map.addLayer(landsat, landsat_vis_rgb, 'Landsat 8 RGB')\n",
    "Map.addLayer(ocalanf_boundary, {}, \"Ocala National Forest Boundary\")\n",
    "\n",
    "# Center and scale the map\n",
    "Map.setCenter(-81.68067, 29.24847, 10)"
   ]
  },
  {
   "cell_type": "code",
   "execution_count": 5,
   "id": "8e13dfdd",
   "metadata": {},
   "outputs": [],
   "source": [
    "# Define a function that masks out the clouds and cloud shadows using the landsat 8 QA band\n",
    "\n",
    "def mask_clouds_landsat8(image):\n",
    "  # Bits 3 and 5 are cloud shadow and cloud, respectively.\n",
    "  cloudShadowBitMask = (1 << 3) # 1000 in base 2\n",
    "  cloudsBitMask = (1 << 5) # 100000 in base 2\n",
    "\n",
    "  # Get the pixel QA band.\n",
    "  qa = image.select('pixel_qa')\n",
    "\n",
    "  # Both flags should be set to zero, indicating clear conditions.\n",
    "  mask = qa.bitwiseAnd(cloudShadowBitMask).eq(0).And(qa.bitwiseAnd(cloudsBitMask).eq(0))\n",
    "\n",
    "  # Mask image with clouds and shadows.\n",
    "  return image.updateMask(mask)\n"
   ]
  },
  {
   "cell_type": "code",
   "execution_count": 6,
   "id": "afca1ab3",
   "metadata": {},
   "outputs": [],
   "source": [
    "# Make a second mean image composite with the clouds and shadows masked out using the function defined above\n",
    "\n",
    "landsat_cloud_free = (\n",
    "    ee.ImageCollection('LANDSAT/LC08/C01/T1_SR') # Grab Landsat 8 Collection 1 Tier 1 Surface Reflectance Imagery\n",
    "    .filter(ee.Filter.eq('WRS_PATH', 16))\n",
    "    .filter(ee.Filter.eq('WRS_ROW', 40))\n",
    "    .filterDate('2020-05-01', '2020-07-30')\n",
    "    .map(mask_clouds_landsat8)\n",
    "    .mean() # create a mean composite image from the image collection\n",
    "    .clip(ocalanf_boundary) # CLip the image to the polygon\n",
    ")"
   ]
  },
  {
   "cell_type": "code",
   "execution_count": 8,
   "id": "7abd518f",
   "metadata": {},
   "outputs": [
    {
     "data": {
      "application/vnd.jupyter.widget-view+json": {
       "model_id": "1c2291ea0d9b4575ae8beceb013906dc",
       "version_major": 2,
       "version_minor": 0
      },
      "text/plain": [
       "Map(center=[20, 0], controls=(WidgetControl(options=['position', 'transparent_bg'], widget=HBox(children=(Togg…"
      ]
     },
     "metadata": {},
     "output_type": "display_data"
    }
   ],
   "source": [
    "# Make a second plot for the cloud-free image composite\n",
    "\n",
    "Map2 = geemap.Map()\n",
    "Map2"
   ]
  },
  {
   "cell_type": "code",
   "execution_count": 9,
   "id": "3384b4dc",
   "metadata": {},
   "outputs": [],
   "source": [
    "# Add CIR, RGB, and polygon layers to map\n",
    "Map2.addLayer(landsat_cloud_free, landsat_vis_cir, 'Landsat 8 CIR')\n",
    "Map2.addLayer(landsat_cloud_free, landsat_vis_rgb, 'Landsat 8 RGB')\n",
    "Map2.addLayer(ocalanf_boundary, {}, \"Ocala National Forest Boundary\")\n",
    "\n",
    "# Center and scale the map\n",
    "Map2.setCenter(-81.68067, 29.24847, 10)"
   ]
  },
  {
   "cell_type": "code",
   "execution_count": 15,
   "id": "c013e59f",
   "metadata": {},
   "outputs": [
    {
     "data": {
      "application/vnd.jupyter.widget-view+json": {
       "model_id": "4b8eb6dddccc471ea7405f4e37daee72",
       "version_major": 2,
       "version_minor": 0
      },
      "text/plain": [
       "Map(center=[29.24847, -81.68067], controls=(ZoomControl(options=['position', 'zoom_in_text', 'zoom_in_title', …"
      ]
     },
     "metadata": {},
     "output_type": "display_data"
    }
   ],
   "source": [
    "# Create a split pane map to compare the cloudy and cloud-free image composites\n",
    "Map3 = geemap.Map()\n",
    "\n",
    "left_layer = geemap.ee_tile_layer(landsat, landsat_vis_rgb, 'Clouded')\n",
    "right_layer = geemap.ee_tile_layer(landsat_cloud_free, landsat_vis_rgb, 'Cloud Free')\n",
    "\n",
    "Map3.split_map(left_layer, right_layer)\n",
    "Map3.setCenter(-81.68067, 29.24847, 10)\n",
    "Map3"
   ]
  },
  {
   "cell_type": "code",
   "execution_count": null,
   "id": "1dbbe0a4",
   "metadata": {},
   "outputs": [],
   "source": []
  }
 ],
 "metadata": {
  "kernelspec": {
   "display_name": "Python 3 (ipykernel)",
   "language": "python",
   "name": "python3"
  },
  "language_info": {
   "codemirror_mode": {
    "name": "ipython",
    "version": 3
   },
   "file_extension": ".py",
   "mimetype": "text/x-python",
   "name": "python",
   "nbconvert_exporter": "python",
   "pygments_lexer": "ipython3",
   "version": "3.9.7"
  }
 },
 "nbformat": 4,
 "nbformat_minor": 5
}
